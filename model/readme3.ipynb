{
 "cells": [
  {
   "cell_type": "markdown",
   "metadata": {},
   "source": [
    "#### warning \n",
    "These links are not guarenteed to work,\n",
    "If these links broke you can check out readme.md  about how to install model weights \n",
    "from the official paddlepaddleOCR repo.        \n",
    "And the official repo also provide more language support.      \n",
    "### detection models"
   ]
  },
  {
   "cell_type": "code",
   "execution_count": null,
   "metadata": {
    "vscode": {
     "languageId": "shellscript"
    }
   },
   "outputs": [],
   "source": [
    "# multilingual\n",
    "wget https://paddleocr.bj.bcebos.com/PP-OCRv3/multilingual/Multilingual_PP-OCRv3_det_infer.tar\n",
    "tar xf Multilingual_PP-OCRv3_det_infer.tar\n",
    "# ch\n",
    "wget https://paddleocr.bj.bcebos.com/PP-OCRv4/chinese/ch_PP-OCRv4_det_infer.tar\n",
    "tar xf ch_PP-OCRv4_det_infer.tar\n",
    "# en\n",
    "wget https://paddleocr.bj.bcebos.com/PP-OCRv3/english/en_PP-OCRv3_det_slim_infer.tar\n",
    "tar xf en_PP-OCRv3_det_slim_infer.tar"
   ]
  },
  {
   "cell_type": "markdown",
   "metadata": {},
   "source": [
    "### recognition model"
   ]
  },
  {
   "cell_type": "code",
   "execution_count": null,
   "metadata": {
    "vscode": {
     "languageId": "shellscript"
    }
   },
   "outputs": [],
   "source": [
    "# chinese\n",
    "wget https://paddleocr.bj.bcebos.com/PP-OCRv4/chinese/ch_PP-OCRv4_rec_infer.tar\n",
    "tar xf ch_PP-OCRv4_rec_infer.tar\n",
    "# english\n",
    "wget https://paddleocr.bj.bcebos.com/PP-OCRv4/english/en_PP-OCRv4_rec_infer.tar\n",
    "tar xf en_PP-OCRv4_rec_infer.tar\n",
    "# japanese\n",
    "wget https://paddleocr.bj.bcebos.com/PP-OCRv3/multilingual/japan_PP-OCRv3_rec_infer.tar\n",
    "tar xf ./japan_PP-OCRv3_rec_infer.tar \n",
    "# chinese traditional\n",
    "wget https://paddleocr.bj.bcebos.com/PP-OCRv3/multilingual/chinese_cht_PP-OCRv3_rec_infer.tar\n",
    "tar xf ./chinese_cht_PP-OCRv3_rec_infer.tar\n",
    "\n",
    "## for other language (korean/arabic ...) please check out the official paddlepaddleOCR repo.   "
   ]
  }
 ],
 "metadata": {
  "language_info": {
   "name": "python"
  },
  "orig_nbformat": 4
 },
 "nbformat": 4,
 "nbformat_minor": 2
}
